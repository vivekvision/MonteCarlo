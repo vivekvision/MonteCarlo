{
 "cells": [
  {
   "cell_type": "markdown",
   "id": "461c77d0",
   "metadata": {},
   "source": [
    "Monte Carlo in Corporate Finance Setting \n",
    "\n",
    "## Revenue\n",
    "\n",
    "Revenues -> Current Revenue = Previous Revenue (1 + Growth Rate)\n",
    "\n",
    "Growth rate is unknown variable, It can be simulated if its distribution, mean & standard deviation is known or estimated \n",
    "This will allow to obtain multiple simulation of revenue\n",
    "\n",
    "\n",
    "## Cost of Goods sold \n",
    "\n",
    "Cost of goods sold = Percentage of revenue \n",
    "For each revenue path COGS can be simulated as percentage of the observed amount of revenue. Simulate the percentage as a random variable with a known distribution, mean and standard deviation \n",
    "\n",
    "Gross profit = Revenue - Cost of Goods Sold \n",
    "\n",
    "both 'Revenue' and 'Cost of Goods Sold' are simulated \n"
   ]
  },
  {
   "cell_type": "code",
   "execution_count": 1,
   "id": "4f9ad026",
   "metadata": {},
   "outputs": [],
   "source": [
    "import numpy as np\n",
    "import matplotlib.pyplot as plt"
   ]
  },
  {
   "cell_type": "markdown",
   "id": "4b0fa2d5",
   "metadata": {},
   "source": [
    "Forecasted revenue is 200 million with an expected deviation of 10 million \n",
    "\n",
    "Cogs will be 40% of the revenue with an expected deviation of 20% of its own value \n"
   ]
  },
  {
   "cell_type": "markdown",
   "id": "db83278f",
   "metadata": {},
   "source": [
    "Revenue mean = 200 million \n",
    "\n",
    "Revenue Standard Deviation = 10 million \n",
    "\n",
    "Use NumPy’s random.random function to simulate the potential revenue stream \n",
    "for 250 iterations and then the predicted Cogs value"
   ]
  },
  {
   "cell_type": "code",
   "execution_count": 3,
   "id": "e3773a3c",
   "metadata": {},
   "outputs": [],
   "source": [
    "rev_m = 200\n",
    "rev_stdev = 10\n",
    "iterations = 250\n",
    "rev = np.random.normal(rev_m, rev_stdev, iterations)\n"
   ]
  },
  {
   "cell_type": "code",
   "execution_count": 5,
   "id": "86401af4",
   "metadata": {},
   "outputs": [],
   "source": [
    "cogs_mean_fraction_of_revenue = 0.4\n",
    "cogs_fraction_stddev = 0.2\n",
    "COGS = - (rev * np.random.normal(0.4,0.2))"
   ]
  },
  {
   "cell_type": "code",
   "execution_count": 8,
   "id": "f6720b88",
   "metadata": {},
   "outputs": [
    {
     "name": "stdout",
     "output_type": "stream",
     "text": [
      "mean of COGS simulation\n",
      "-80.03966746826295\n"
     ]
    }
   ],
   "source": [
    "print(\"mean of COGS simulation\")\n",
    "print(COGS.mean())"
   ]
  },
  {
   "cell_type": "code",
   "execution_count": 9,
   "id": "3ed7e3cc",
   "metadata": {},
   "outputs": [
    {
     "name": "stdout",
     "output_type": "stream",
     "text": [
      "std dev of GOGS simulation\n",
      "4.126122349329008\n"
     ]
    }
   ],
   "source": [
    "print(\"std dev of GOGS simulation\")\n",
    "print(COGS.std())"
   ]
  },
  {
   "cell_type": "markdown",
   "id": "063bcaa3",
   "metadata": {},
   "source": [
    "Gross Profit = Revenue - Cost of goods sold"
   ]
  },
  {
   "cell_type": "code",
   "execution_count": 10,
   "id": "21266271",
   "metadata": {},
   "outputs": [],
   "source": [
    "Gross_Profit = rev + COGS  # COGS is negative :  COGS = - (rev * np.random.normal(0.4,0.2))"
   ]
  },
  {
   "cell_type": "code",
   "execution_count": 11,
   "id": "5c304adb",
   "metadata": {},
   "outputs": [
    {
     "data": {
      "text/plain": [
       "140.74957729151362"
      ]
     },
     "execution_count": 11,
     "metadata": {},
     "output_type": "execute_result"
    }
   ],
   "source": [
    "# Max value of Gross Profit\n",
    "max(Gross_Profit)"
   ]
  },
  {
   "cell_type": "code",
   "execution_count": 12,
   "id": "21adc48d",
   "metadata": {},
   "outputs": [
    {
     "data": {
      "text/plain": [
       "97.34785346718118"
      ]
     },
     "execution_count": 12,
     "metadata": {},
     "output_type": "execute_result"
    }
   ],
   "source": [
    "# Min value of Gross Profit\n",
    "min(Gross_Profit)"
   ]
  },
  {
   "cell_type": "code",
   "execution_count": 13,
   "id": "a5e2cc37",
   "metadata": {},
   "outputs": [
    {
     "data": {
      "text/plain": [
       "119.63678055594198"
      ]
     },
     "execution_count": 13,
     "metadata": {},
     "output_type": "execute_result"
    }
   ],
   "source": [
    "# Mean of Gross Profit\n",
    "Gross_Profit.mean()"
   ]
  },
  {
   "cell_type": "code",
   "execution_count": 14,
   "id": "69cf156b",
   "metadata": {},
   "outputs": [
    {
     "data": {
      "text/plain": [
       "6.167391865406952"
      ]
     },
     "execution_count": 14,
     "metadata": {},
     "output_type": "execute_result"
    }
   ],
   "source": [
    "# Standard Deviation of Gross Profit\n",
    "Gross_Profit.std()"
   ]
  }
 ],
 "metadata": {
  "kernelspec": {
   "display_name": "Python 3 (ipykernel)",
   "language": "python",
   "name": "python3"
  },
  "language_info": {
   "codemirror_mode": {
    "name": "ipython",
    "version": 3
   },
   "file_extension": ".py",
   "mimetype": "text/x-python",
   "name": "python",
   "nbconvert_exporter": "python",
   "pygments_lexer": "ipython3",
   "version": "3.8.8"
  }
 },
 "nbformat": 4,
 "nbformat_minor": 5
}
