{
 "cells": [
  {
   "cell_type": "markdown",
   "metadata": {},
   "source": [
    "Theoretically, a distribution of a statistical dataset shows us the frequency at which possible values occur within an interval. \n",
    "\n",
    "There are many statistical distributions, and the most popular ones have their own names. In this notebook file, we will focus on one of them - the normal distribution, also called Gaussian distribution. \n",
    "\n",
    "The examples we show will best clarify the concept."
   ]
  },
  {
   "cell_type": "markdown",
   "metadata": {},
   "source": [
    "To begin, import NumPy, Matplotlib Pyplot, the \"norm\" module from \"scipy.stats\", and matplotlib inline."
   ]
  },
  {
   "cell_type": "code",
   "execution_count": 2,
   "metadata": {},
   "outputs": [],
   "source": [
    "import numpy as np\n",
    "import matplotlib.pyplot as plt\n",
    "from scipy.stats import norm\n",
    "%matplotlib inline"
   ]
  },
  {
   "cell_type": "markdown",
   "metadata": {},
   "source": [
    "random numbers created with np.random.random() and np.random.randint()\n",
    "\n",
    "To create a random normal distribution use np.random.normal()"
   ]
  },
  {
   "cell_type": "code",
   "execution_count": 3,
   "metadata": {},
   "outputs": [
    {
     "data": {
      "text/plain": [
       "array([ 8.07115896, 19.1720717 , 10.92391212, 15.59759178,  9.98271517,\n",
       "       20.90961512, 21.11345667,  7.94324229, 11.08493618, -1.03381305,\n",
       "        9.38689354,  6.1974815 ,  3.85524481, 16.26560357, 11.38411474,\n",
       "        6.12517192,  7.15621341, 22.55279346, 11.59154245,  4.30093665,\n",
       "       13.1581095 , 13.23845102, 21.97552796,  1.36608052, 16.33559041,\n",
       "       14.0681746 ,  4.41127334,  8.21349365,  9.62295105,  8.55922246,\n",
       "       12.45764334, 10.65707228, 10.3134948 ,  7.8381533 , 10.2589368 ,\n",
       "       15.20536724, 20.72206021, 13.95275322, 10.53261   ,  5.79604334])"
      ]
     },
     "execution_count": 3,
     "metadata": {},
     "output_type": "execute_result"
    }
   ],
   "source": [
    "normal_d = np.random.normal(10,5,40)\n",
    "normal_d"
   ]
  },
  {
   "cell_type": "markdown",
   "metadata": {},
   "source": [
    "First parameter: mean around which the distribution will be centered => 10\n",
    "Second parameter: standard deviation  => 5. \n",
    "\n",
    "This is why, numbers are all around 10 and rarely less than 5 or greater than 15\n",
    "\n",
    "Last parameter:  number of observations required to be generated "
   ]
  },
  {
   "cell_type": "markdown",
   "metadata": {},
   "source": [
    "***"
   ]
  },
  {
   "cell_type": "markdown",
   "metadata": {},
   "source": [
    "Standard normal distribution: Special case when the mean value of the distribution is 0 and the standard deviation equals 1\n",
    "\n",
    "NumPy provides a tool for generating random numbers from a standard normal distribution. This time, you need not specify a mean and a standard deviation value in parentheses. Typing a single argument of 40 in parentheses will provide a one-dimensional array with 40 elements.   "
   ]
  },
  {
   "cell_type": "code",
   "execution_count": 5,
   "metadata": {},
   "outputs": [
    {
     "data": {
      "text/plain": [
       "array([ 0.14078144, -1.0497955 ,  1.89146538,  0.47550187, -0.19623644,\n",
       "        1.54566825,  1.57081229, -0.28662426, -0.89831295, -0.85481208,\n",
       "       -0.97787083,  0.70271879,  1.11807479,  1.08877223, -0.74415584,\n",
       "        2.14575138,  0.08401573, -1.28143684, -1.77889729, -0.66855781,\n",
       "        0.2391529 , -0.12416302,  0.50220969, -1.16862049, -0.25537101,\n",
       "       -1.22536367,  0.48060168, -0.29158535, -0.33760504,  0.49262009,\n",
       "        1.61631133, -0.92428271,  1.23871622, -2.06251166,  0.39882083,\n",
       "       -1.17726957, -1.23789353, -0.55347752,  0.75353431, -1.77506112])"
      ]
     },
     "execution_count": 5,
     "metadata": {},
     "output_type": "execute_result"
    }
   ],
   "source": [
    "std_norm = np.random.standard_normal(40)\n",
    "std_norm"
   ]
  },
  {
   "cell_type": "markdown",
   "metadata": {},
   "source": [
    "To create two-dimensional array with standard-normally distributed values:\n",
    "\n",
    "double the parentheses and designate the dimension in the following way:"
   ]
  },
  {
   "cell_type": "code",
   "execution_count": 3,
   "metadata": {},
   "outputs": [
    {
     "data": {
      "text/plain": [
       "array([[ 1.50456908,  0.50492805, -0.51829302,  2.68806252,  0.60806358,\n",
       "        -0.06245286,  0.90774728,  0.40145567, -1.05534428,  0.21251598],\n",
       "       [ 1.24431719, -1.30218478,  1.26331168, -1.18396028,  0.22932119,\n",
       "         1.62948575,  0.77961597,  0.63680128,  0.02024532,  0.69605618],\n",
       "       [-0.49211024,  0.46995604,  0.40974372,  0.45330778, -0.71483073,\n",
       "        -1.45064872,  1.06931931, -1.38281192, -0.74430673, -0.00625238],\n",
       "       [ 0.34102293, -0.48575776,  0.26089533,  0.35727823, -0.81978153,\n",
       "         0.58647459, -1.56696088, -1.86953712,  0.48410811, -0.85666993]])"
      ]
     },
     "execution_count": 3,
     "metadata": {},
     "output_type": "execute_result"
    }
   ],
   "source": [
    "\n",
    "std_norm_2 = np.random.standard_normal((4,10))\n",
    "std_norm_2"
   ]
  },
  {
   "cell_type": "markdown",
   "metadata": {},
   "source": [
    "*************"
   ]
  },
  {
   "cell_type": "markdown",
   "metadata": {},
   "source": [
    "Now, let's see how the obtained std_norm result looks when plotted on a graph."
   ]
  },
  {
   "cell_type": "code",
   "execution_count": 6,
   "metadata": {},
   "outputs": [
    {
     "data": {
      "image/png": "[encoded data removed]",
      "text/plain": [
       "<Figure size 432x288 with 1 Axes>"
      ]
     },
     "metadata": {
      "needs_background": "light"
     },
     "output_type": "display_data"
    }
   ],
   "source": [
    "plt.plot(std_norm)\n",
    "plt.show()"
   ]
  },
  {
   "cell_type": "markdown",
   "metadata": {},
   "source": [
    "This is a line chart. The line connects all the points obtained in the *std_norm* array, reading the numbers from left to right and from top to bottom.\n",
    "\n",
    "\n",
    "all the values are around 0, and they rarely leave the interval [-1;1]"
   ]
  },
  {
   "cell_type": "markdown",
   "metadata": {},
   "source": [
    "*************"
   ]
  },
  {
   "cell_type": "markdown",
   "metadata": {},
   "source": [
    "Following graph presents probability with which the data points from a designated range are expected to occur. \n",
    "\n",
    "Function is called probability density function, and it best exhibits the characteristics of a certain distribution. \n",
    "\n",
    "The probability density function of the normal distribution is contained in the 'scipy.stats' module\n",
    "\n",
    "First, we must "
   ]
  },
  {
   "cell_type": "code",
   "execution_count": 6,
   "metadata": {
    "collapsed": true
   },
   "outputs": [],
   "source": [
    "range = np.arange(-5, 5, 0.01)\n",
    "\n",
    "# set the interval within which data would be distributed  \n",
    "# The arguments, -5 and 5, designate the end points of the range. \n",
    "# The third argument, 0.01, specifies the distance between two adjacent values."
   ]
  },
  {
   "cell_type": "markdown",
   "metadata": {},
   "source": [
    "Finally, we will plot data from this range with a mean of 0 and a standard deviation of 1."
   ]
  },
  {
   "cell_type": "code",
   "execution_count": 7,
   "metadata": {},
   "outputs": [
    {
     "data": {
      "text/plain": [
       "[<matplotlib.lines.Line2D at 0x428abe0>]"
      ]
     },
     "execution_count": 7,
     "metadata": {},
     "output_type": "execute_result"
    },
    {
     "data": {
      "image/png": "[encoded data removed]",
      "text/plain": [
       "<matplotlib.figure.Figure at 0x428aac8>"
      ]
     },
     "metadata": {},
     "output_type": "display_data"
    }
   ],
   "source": [
    "plt.plot(range, norm.pdf(range, 0, 1))"
   ]
  },
  {
   "cell_type": "markdown",
   "metadata": {},
   "source": [
    "The obtained curve is informally referred to as a bell-curve. It corresponds to the shape of any normal distribution.<br/>\n",
    "\n",
    "A typical feature of this distribution is its bell-curve is symmetrical. This means most observations will equal the mean value of the distribution, and there will be as many observations below the mean as there will be above it. The mean value is in the center of the graph. That the two ends of the curve are closer to the x-axis is explained by the rare occurrence of observations that largely deviate from the center."
   ]
  },
  {
   "cell_type": "markdown",
   "metadata": {},
   "source": [
    "***"
   ]
  },
  {
   "cell_type": "markdown",
   "metadata": {},
   "source": [
    "The normal distribution is important for statisticians because distributing a dataset containing 250 or more observations can be approximated to a normal distribution. Therefore, this distribution is used frequently. In our next lectures, we will run tests with hundreds, and even thousands, of data points, and we will often need to apply this technique."
   ]
  }
 ],
 "metadata": {
  "kernelspec": {
   "display_name": "Python 3 (ipykernel)",
   "language": "python",
   "name": "python3"
  },
  "language_info": {
   "codemirror_mode": {
    "name": "ipython",
    "version": 3
   },
   "file_extension": ".py",
   "mimetype": "text/x-python",
   "name": "python",
   "nbconvert_exporter": "python",
   "pygments_lexer": "ipython3",
   "version": "3.8.8"
  }
 },
 "nbformat": 4,
 "nbformat_minor": 2
}
