{
 "cells": [
  {
   "cell_type": "code",
   "execution_count": 2,
   "metadata": {},
   "outputs": [],
   "source": [
    "import numpy as np  \n",
    "import pandas as pd  \n",
    "\n",
    "import matplotlib.pyplot as plt  \n",
    "from scipy.stats import norm\n",
    "%matplotlib inline\n",
    "\n",
    "data = pd.read_csv('./MSFT_2000.csv', index_col = 'Date')\n",
    "\n",
    "log_returns = np.log(1 + data.pct_change())\n",
    "u = log_returns.mean()\n",
    "var = log_returns.var()\n",
    "drift = u - (0.5 * var)\n",
    "stdev = log_returns.std()"
   ]
  },
  {
   "cell_type": "markdown",
   "metadata": {},
   "source": [
    "******"
   ]
  },
  {
   "cell_type": "markdown",
   "metadata": {},
   "source": [
    "Use “.values” to transform the *drift* and the *stdev* objects into arrays. "
   ]
  },
  {
   "cell_type": "code",
   "execution_count": 2,
   "metadata": {},
   "outputs": [
    {
     "data": {
      "text/plain": [
       "pandas.core.series.Series"
      ]
     },
     "execution_count": 2,
     "metadata": {},
     "output_type": "execute_result"
    }
   ],
   "source": [
    "type(drift)"
   ]
  },
  {
   "cell_type": "code",
   "execution_count": 3,
   "metadata": {
    "scrolled": true
   },
   "outputs": [
    {
     "data": {
      "text/plain": [
       "array([ -3.42521946e-05])"
      ]
     },
     "execution_count": 3,
     "metadata": {},
     "output_type": "execute_result"
    }
   ],
   "source": [
    "drift.values"
   ]
  },
  {
   "cell_type": "code",
   "execution_count": 4,
   "metadata": {},
   "outputs": [
    {
     "data": {
      "text/plain": [
       "pandas.core.series.Series"
      ]
     },
     "execution_count": 4,
     "metadata": {},
     "output_type": "execute_result"
    }
   ],
   "source": [
    "type(stdev)"
   ]
  },
  {
   "cell_type": "code",
   "execution_count": 5,
   "metadata": {},
   "outputs": [
    {
     "data": {
      "text/plain": [
       "array([ 0.01939682])"
      ]
     },
     "execution_count": 5,
     "metadata": {},
     "output_type": "execute_result"
    }
   ],
   "source": [
    "stdev.values"
   ]
  },
  {
   "cell_type": "markdown",
   "metadata": {},
   "source": [
    "Forecast future stock prices for every trading day a year ahead. So, assign 250 to “t_intervals”. <br />\n",
    "Let’s examine 10 possible outcomes. Bind “iterations” to the value of 10."
   ]
  },
  {
   "cell_type": "code",
   "execution_count": 6,
   "metadata": {
    "collapsed": true
   },
   "outputs": [],
   "source": [
    "t_intervals = 250\n",
    "iterations = 10"
   ]
  },
  {
   "cell_type": "markdown",
   "metadata": {},
   "source": [
    "$$\n",
    "daily\\_returns = e^{r}\n",
    "$$\n",
    "\n",
    "$$\n",
    "r = drift + stdev \\cdot z\n",
    "$$"
   ]
  },
  {
   "cell_type": "markdown",
   "metadata": {},
   "source": [
    "Use the formula we have provided and calculate daily returns."
   ]
  },
  {
   "cell_type": "markdown",
   "metadata": {},
   "source": [
    "$$\n",
    "daily\\_returns = exp({drift} + {stdev} * z), \n",
    "$$ \n",
    "\n",
    "\n",
    "\n",
    "$$\n",
    "where\\  z = norm.ppf(np.random.rand(t\\_intervals, iterations)\n",
    "$$"
   ]
  },
  {
   "cell_type": "code",
   "execution_count": 3,
   "metadata": {},
   "outputs": [
    {
     "data": {
      "text/plain": [
       "1.6448536269514722"
      ]
     },
     "execution_count": 3,
     "metadata": {},
     "output_type": "execute_result"
    }
   ],
   "source": [
    "norm.ppf(0.95)"
   ]
  },
  {
   "cell_type": "code",
   "execution_count": 4,
   "metadata": {},
   "outputs": [
    {
     "data": {
      "text/plain": [
       "array([[0.84523149, 0.95150807],\n",
       "       [0.4893616 , 0.37516023],\n",
       "       [0.99352572, 0.37797138],\n",
       "       [0.94964679, 0.84183313],\n",
       "       [0.48585881, 0.14665638],\n",
       "       [0.88834722, 0.46546161],\n",
       "       [0.98974127, 0.11768275],\n",
       "       [0.82138758, 0.99350225],\n",
       "       [0.7964031 , 0.38581045],\n",
       "       [0.73932012, 0.65123666]])"
      ]
     },
     "execution_count": 4,
     "metadata": {},
     "output_type": "execute_result"
    }
   ],
   "source": [
    "x = np.random.rand(10, 2)\n",
    "x"
   ]
  },
  {
   "cell_type": "code",
   "execution_count": 5,
   "metadata": {},
   "outputs": [
    {
     "data": {
      "text/plain": [
       "array([[ 1.01619397,  1.65965513],\n",
       "       [-0.02666968, -0.31821683],\n",
       "       [ 2.48518095, -0.31081304],\n",
       "       [ 1.64143855,  1.00202038],\n",
       "       [-0.03545414, -1.05088205],\n",
       "       [ 1.21778535, -0.08668334],\n",
       "       [ 2.316748  , -1.1866505 ],\n",
       "       [ 0.920666  ,  2.48389276],\n",
       "       [ 0.82884205, -0.29025534],\n",
       "       [ 0.64125079,  0.38866135]])"
      ]
     },
     "execution_count": 5,
     "metadata": {},
     "output_type": "execute_result"
    }
   ],
   "source": [
    "norm.ppf(x)"
   ]
  },
  {
   "cell_type": "code",
   "execution_count": 6,
   "metadata": {},
   "outputs": [
    {
     "data": {
      "text/plain": [
       "array([[ 0.37855753,  0.28370747],\n",
       "       [-0.17315512,  1.21681995],\n",
       "       [-0.06197084,  1.05248639],\n",
       "       [ 0.67975798,  0.85986494],\n",
       "       [ 1.23486729, -1.55315645],\n",
       "       [-0.0707761 , -0.70638314],\n",
       "       [-0.85808764, -3.27964253],\n",
       "       [ 0.67328578,  0.02909802],\n",
       "       [ 1.59960991,  0.73166108],\n",
       "       [-0.06055079, -0.34088724]])"
      ]
     },
     "execution_count": 6,
     "metadata": {},
     "output_type": "execute_result"
    }
   ],
   "source": [
    "Z = norm.ppf(np.random.rand(10,2))\n",
    "Z"
   ]
  },
  {
   "cell_type": "code",
   "execution_count": 7,
   "metadata": {},
   "outputs": [
    {
     "data": {
      "text/plain": [
       "array([[ 1.04349   ,  1.01604234,  1.00293372, ...,  0.98887919,\n",
       "         1.02431617,  1.00577522],\n",
       "       [ 1.02119687,  0.98056692,  1.020506  , ...,  1.00942108,\n",
       "         1.00105479,  1.00671925],\n",
       "       [ 1.00294186,  0.98998804,  0.99562562, ...,  0.96918634,\n",
       "         1.02265222,  1.01655192],\n",
       "       ..., \n",
       "       [ 1.00159232,  0.99937562,  1.0216167 , ...,  0.98959137,\n",
       "         0.99094284,  0.99479379],\n",
       "       [ 1.0251291 ,  0.97836497,  0.97139958, ...,  1.04597457,\n",
       "         1.0011809 ,  0.99421068],\n",
       "       [ 0.99434018,  0.97163049,  0.97613251, ...,  1.00147267,\n",
       "         0.98800248,  1.02204831]])"
      ]
     },
     "execution_count": 7,
     "metadata": {},
     "output_type": "execute_result"
    }
   ],
   "source": [
    "daily_returns = np.exp(drift.values + stdev.values * norm.ppf(np.random.rand(t_intervals, iterations)))\n",
    "daily_returns"
   ]
  },
  {
   "cell_type": "code",
   "execution_count": null,
   "metadata": {},
   "outputs": [],
   "source": []
  }
 ],
 "metadata": {
  "kernelspec": {
   "display_name": "Python 3 (ipykernel)",
   "language": "python",
   "name": "python3"
  },
  "language_info": {
   "codemirror_mode": {
    "name": "ipython",
    "version": 3
   },
   "file_extension": ".py",
   "mimetype": "text/x-python",
   "name": "python",
   "nbconvert_exporter": "python",
   "pygments_lexer": "ipython3",
   "version": "3.8.8"
  }
 },
 "nbformat": 4,
 "nbformat_minor": 2
}
